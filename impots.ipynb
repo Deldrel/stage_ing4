{
 "cells": [
  {
   "cell_type": "code",
   "id": "initial_id",
   "metadata": {
    "collapsed": true,
    "ExecuteTime": {
     "end_time": "2024-07-09T09:09:30.205959Z",
     "start_time": "2024-07-09T09:09:29.086163Z"
    }
   },
   "source": [
    "import numpy as np\n",
    "import matplotlib.pyplot as plt\n",
    "from scipy.stats import norm\n",
    "import ipywidgets as widgets\n",
    "from ipywidgets import interact\n",
    "\n",
    "# Anciennes tranches d'imposition\n",
    "tranches = [\n",
    "    (0, 10225, 0.0),  # jusqu'à 10,225€ : 0%\n",
    "    (10226, 26070, 0.11),  # de 10,226€ à 26,070€ : 11%\n",
    "    (26071, 74545, 0.30),  # de 26,071€ à 74,545€ : 30%\n",
    "    (74546, 160336, 0.41),  # de 74,546€ à 160,336€ : 41%\n",
    "    (160337, float('inf'), 0.45)  # plus de 160,336€ : 45%\n",
    "]\n",
    "\n",
    "# Nouvelles tranches d'imposition\n",
    "nouvelles_tranches = [\n",
    "    (0, 10292, 0.01),\n",
    "    (10293, 15438, 0.05),\n",
    "    (15439, 20584, 0.10),\n",
    "    (20585, 27789, 0.15),\n",
    "    (27790, 30876, 0.20),\n",
    "    (30877, 33964, 0.25),\n",
    "    (33965, 38081, 0.30),\n",
    "    (38082, 44256, 0.35),\n",
    "    (44257, 61752, 0.40),\n",
    "    (61753, 102921, 0.45),\n",
    "    (102922, 144089, 0.50),\n",
    "    (144090, 267594, 0.55),\n",
    "    (267595, 411683, 0.60),\n",
    "    (411684, float('inf'), 0.90)\n",
    "]\n",
    "\n",
    "# Fonction pour calculer l'impôt en fonction des tranches\n",
    "def calcul_impot(revenu, tranches):\n",
    "    impot = 0\n",
    "    for debut, fin, taux in tranches:\n",
    "        if revenu > debut:\n",
    "            impot += (min(revenu, fin) - debut) * taux\n",
    "        else:\n",
    "            break\n",
    "    return impot\n",
    "\n",
    "# Données INSEE pour ajuster la distribution des revenus\n",
    "deciles_revenus = [8820, 14010, 16980, 19590, 21980, 24470, 27310, 31020, 37060, 64840]\n",
    "\n",
    "# Calcul de la moyenne et de l'écart-type approximatifs à partir des déciles\n",
    "mean_revenu_insee = np.mean(deciles_revenus)\n",
    "std_revenu_insee = np.std(deciles_revenus)\n",
    "\n",
    "def plot_distribution(revenu_min, revenu_max, afficher_revenu_final):\n",
    "    # Calcul du taux d'imposition final\n",
    "    revenus = np.arange(revenu_min, revenu_max)\n",
    "    impots = np.array([calcul_impot(revenu, tranches) for revenu in revenus])\n",
    "    taux_imposition = impots / revenus\n",
    "\n",
    "    # Calcul du taux d'imposition final pour les nouvelles tranches\n",
    "    nouveaux_impots = np.array([calcul_impot(revenu, nouvelles_tranches) for revenu in revenus])\n",
    "    nouveau_taux_imposition = nouveaux_impots / revenus\n",
    "\n",
    "    # Calcul du revenu final après impôt\n",
    "    revenu_final_ancien = revenus - impots\n",
    "    revenu_final_nouveau = revenus - nouveaux_impots\n",
    "\n",
    "    # Génération des valeurs pour la courbe de distribution des revenus basée sur les données INSEE\n",
    "    frequence_revenus_insee = norm.pdf(revenus, mean_revenu_insee, std_revenu_insee)\n",
    "\n",
    "    # Normalisation pour que le maximum soit égal à 100\n",
    "    frequence_revenus_insee = frequence_revenus_insee / max(frequence_revenus_insee) * 100\n",
    "\n",
    "    # Déterminer les limites des tranches de 10% de la population\n",
    "    percentiles = [norm.ppf(p, mean_revenu_insee, std_revenu_insee) for p in np.arange(0.1, 1.0, 0.1)]\n",
    "    percentiles.insert(0, norm.ppf(0.0, mean_revenu_insee, std_revenu_insee))\n",
    "    percentiles.append(norm.ppf(1.0, mean_revenu_insee, std_revenu_insee))\n",
    "\n",
    "    # Plot\n",
    "    fig, ax1 = plt.subplots(figsize=(14, 8))\n",
    "\n",
    "    ax1.plot(revenus, taux_imposition * 100, label=\"Anciennes tranches\")  # pourcentage\n",
    "    ax1.plot(revenus, nouveau_taux_imposition * 100, label=\"Nouvelles tranches\")  # pourcentage\n",
    "    ax1.plot(revenus, frequence_revenus_insee, label=\"Fréquence des revenus (INSEE)\")  # fréquence des revenus\n",
    "\n",
    "    # Ajouter des couleurs semi-transparentes pour indiquer les tranches de 10% de la population\n",
    "    for i in range(len(percentiles) - 1):\n",
    "        ax1.fill_between(revenus, 0, frequence_revenus_insee, where=(revenus >= percentiles[i]) & (revenus <= percentiles[i + 1]), alpha=0.3, label=f'{int(i*10)}%-{int((i+1)*10)}% de la population')\n",
    "\n",
    "    ax1.set_title(\"Comparaison des taux d'imposition, de la fréquence des revenus et du revenu final en France\")\n",
    "    ax1.set_xlabel(\"Revenu (€)\")\n",
    "    ax1.set_ylabel(\"Taux d'imposition (%) / Fréquence des revenus (%)\")\n",
    "    ax1.legend(loc='upper left')\n",
    "    ax1.grid(True)\n",
    "    ax1.set_xlim(revenu_min, revenu_max)\n",
    "    ax1.set_ylim(0, 100)\n",
    "\n",
    "    # Annotation des nouvelles tranches\n",
    "    for debut, fin, taux in nouvelles_tranches:\n",
    "        if debut <= revenu_max:\n",
    "            ax1.axvline(x=debut, color='grey', linestyle='--', linewidth=0.5)\n",
    "            if fin != float('inf') and fin <= revenu_max:\n",
    "                ax1.axvline(x=fin, color='grey', linestyle='--', linewidth=0.5)\n",
    "\n",
    "    if afficher_revenu_final:\n",
    "        # Ajouter un second axe y pour le revenu final\n",
    "        ax2 = ax1.twinx()\n",
    "        ax2.plot(revenus, revenu_final_ancien, color='red', label=\"Revenu final après impôt (Anciennes tranches)\")\n",
    "        ax2.plot(revenus, revenu_final_nouveau, color='blue', label=\"Revenu final après impôt (Nouvelles tranches)\")\n",
    "        ax2.set_ylabel(\"Revenu final (€)\")\n",
    "        ax2.legend(loc='upper right')\n",
    "\n",
    "    plt.show()\n",
    "\n",
    "# Création de sliders pour définir le revenu minimum et le revenu maximum, et un toggle pour afficher ou non les revenus finaux\n",
    "interact(plot_distribution, \n",
    "         revenu_min=widgets.IntSlider(min=0, max=200000, step=5000, value=0, description='Revenu Min'), \n",
    "         revenu_max=widgets.IntSlider(min=50000, max=500000, step=5000, value=100000, description='Revenu Max'),\n",
    "         afficher_revenu_final=widgets.Checkbox(value=True, description='Afficher Revenu Final'))"
   ],
   "outputs": [
    {
     "data": {
      "text/plain": [
       "interactive(children=(IntSlider(value=0, description='Revenu Min', max=200000, step=5000), IntSlider(value=100…"
      ],
      "application/vnd.jupyter.widget-view+json": {
       "version_major": 2,
       "version_minor": 0,
       "model_id": "262f31b12be84456b333c1d6de0de2d4"
      }
     },
     "metadata": {},
     "output_type": "display_data"
    },
    {
     "data": {
      "text/plain": [
       "<function __main__.plot_distribution(revenu_min, revenu_max, afficher_revenu_final)>"
      ]
     },
     "execution_count": 8,
     "metadata": {},
     "output_type": "execute_result"
    }
   ],
   "execution_count": 8
  },
  {
   "metadata": {},
   "cell_type": "code",
   "outputs": [],
   "execution_count": null,
   "source": "",
   "id": "3a86e498fe00eaa2"
  }
 ],
 "metadata": {
  "kernelspec": {
   "display_name": "Python 3",
   "language": "python",
   "name": "python3"
  },
  "language_info": {
   "codemirror_mode": {
    "name": "ipython",
    "version": 2
   },
   "file_extension": ".py",
   "mimetype": "text/x-python",
   "name": "python",
   "nbconvert_exporter": "python",
   "pygments_lexer": "ipython2",
   "version": "2.7.6"
  }
 },
 "nbformat": 4,
 "nbformat_minor": 5
}
